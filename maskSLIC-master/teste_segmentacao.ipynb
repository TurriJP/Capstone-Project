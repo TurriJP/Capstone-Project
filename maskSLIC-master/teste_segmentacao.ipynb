{
 "cells": [
  {
   "cell_type": "code",
   "execution_count": null,
   "metadata": {},
   "outputs": [],
   "source": [
    "import numpy as np\n",
    "from PIL import Image\n",
    "from glob import glob # manipulação de lista de nomes de arquivos\n",
    "from skimage.measure import regionprops # propriedades de cada segmento\n",
    "import matplotlib.pyplot as plt\n",
    "\n",
    "import seaborn as sns # gráficos\n",
    "import pandas as pd # manipulação de dataframes (sheets)"
   ]
  },
  {
   "cell_type": "code",
   "execution_count": null,
   "metadata": {},
   "outputs": [],
   "source": [
    "# Célula com funções para investigar se um segmento é misto, obter HoR e obter a classe majoritária de um segmento\n",
    "\n",
    "# 0 - Fundo\n",
    "# 1 - Desmatamento recente\n",
    "# 2 - Floresta\n",
    "# 3 - Ñ analisado\n",
    "\n",
    "def is_mixed(segment):\n",
    "    # flattening segment\n",
    "    segment = segment.flatten()\n",
    "\n",
    "\n",
    "    NFP = np.count_nonzero(segment == 2) # se floresta\n",
    "    NP = np.count_nonzero(segment) # desconsiderando o fundo (np.zeros)\n",
    "    NNP = NP - NFP # Calcula os pixels de não-fundo\n",
    "\n",
    "    if NFP != 0 and NNP != 0: # se em um segmento tiver pixels de desmata e floresta, ele é misto\n",
    "        return True\n",
    "    \n",
    "    return False\n",
    "    \n",
    "\n",
    "def get_hor(segment):\n",
    "    \n",
    "    # flattening segment (transformando a matriz 'segment' em um array unidimensional)\n",
    "    segment = segment.flatten()\n",
    "\n",
    "    # Number Foreground Pixels: conta o número de pixels no vetor segment que são diferentes de zero. Especificamente, os que têm o valor 2\n",
    "    NFP = np.count_nonzero(segment == 2)\n",
    "\n",
    "    # conta o número total de pixels no vetor 'segment' que são diferentes de zero. Isso representa o número total de pixels\n",
    "    NP = np.count_nonzero(segment) # desconsiderando o fundo\n",
    "    \n",
    "    # Número de pixels de não-fundo: subtração da quantidade de pixels total de não fundo pela quantidade de pixels iguais a 170\n",
    "    NNP = NP - NFP\n",
    "\n",
    "    HoR = max([NFP, NNP]) / NP\n",
    "\n",
    "    return HoR\n",
    "\n",
    "\n",
    "def get_major_class(segment):\n",
    "    if np.argmax(np.bincount(segment.flatten())) == 2:\n",
    "        return \"forest\"\n",
    "    elif np.argmax(np.bincount(segment.flatten())) == 1:\n",
    "        return \"non forest\"\n",
    "    elif np.argmax(np.bincount(segment.flatten())) == 3:\n",
    "        return \"not analyzed\"\n",
    "    else:\n",
    "        return np.argmax(np.bincount(segment.flatten()))"
   ]
  },
  {
   "cell_type": "code",
   "execution_count": null,
   "metadata": {},
   "outputs": [],
   "source": [
    "# Construir as listas de arquivos a processar\n",
    "base = 'data/'\n",
    "slic_path = base + 'saved_slic/'\n",
    "file_list = [\n",
    "    'ae03_sentinel_rgb.npy',\n",
    "    'AREA3_c_10000_hls_mask_corrigido.npy', \n",
    "    'AREA3_c_10000_rw_mask_corrigido.npy', \n",
    "    'AREA3_c_10000_snll_mask_corrigido.npy', \n",
    "    'AREA3_c_10000_wishart_mask_corrigido.npy']\n"
   ]
  }
 ],
 "metadata": {
  "language_info": {
   "name": "python"
  },
  "orig_nbformat": 4
 },
 "nbformat": 4,
 "nbformat_minor": 2
}
