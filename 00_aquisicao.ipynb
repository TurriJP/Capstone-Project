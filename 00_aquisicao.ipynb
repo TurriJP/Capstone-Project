{
 "cells": [
  {
   "cell_type": "markdown",
   "metadata": {},
   "source": [
    "<div style='text-align:center;'>\n",
    "<figure><img src='https://raw.githubusercontent.com/wekeo/wekeo4data/main/img/LogoWekeo_Copernicus_RGB_0.png' alt='Logo EU Copernicus WEkEO' align='right' width='20%'>\n",
    "</figure>\n",
    "</div>\n",
    "\n",
    "<h1><center><code>How To Download WEkEO Data</code></center></h1>"
   ]
  },
  {
   "cell_type": "markdown",
   "metadata": {},
   "source": [
    "Follow the next few steps to download data from WEkEO via the __HDA API__.  \n",
    "Please check the following article to get further details: \n",
    "- [What is the HDA API Python Client and how to use it?](https://help.wekeo.eu/en/articles/6751608-what-is-the-hda-api-python-client-and-how-to-use-it)\n",
    "- [How to download WEkEO data?](https://help.wekeo.eu/en/articles/6416936-how-to-download-wekeo-data)\n",
    "- [Official documentation of HDA API](https://hda.readthedocs.io/en/latest/usage.html)"
   ]
  },
  {
   "cell_type": "markdown",
   "metadata": {},
   "source": [
    "## Step 1. Install the latest version of `hda`"
   ]
  },
  {
   "cell_type": "markdown",
   "metadata": {},
   "source": [
    "You can run the next cell to install the latest version of `hda`:"
   ]
  },
  {
   "cell_type": "code",
   "execution_count": 1,
   "metadata": {},
   "outputs": [
    {
     "name": "stdout",
     "output_type": "stream",
     "text": [
      "Defaulting to user installation because normal site-packages is not writeable\n",
      "Collecting hda\n",
      "  Downloading hda-1.15.tar.gz (13 kB)\n",
      "  Preparing metadata (setup.py) ... \u001b[?25ldone\n",
      "\u001b[?25hRequirement already satisfied: requests>=2.5.0 in /home/jp/.local/lib/python3.10/site-packages (from hda) (2.31.0)\n",
      "Collecting tqdm\n",
      "  Downloading tqdm-4.66.1-py3-none-any.whl (78 kB)\n",
      "\u001b[2K     \u001b[38;2;114;156;31m━━━━━━━━━━━━━━━━━━━━━━━━━━━━━━━━━━━━━━━━\u001b[0m \u001b[32m78.3/78.3 KB\u001b[0m \u001b[31m2.4 MB/s\u001b[0m eta \u001b[36m0:00:00\u001b[0m\n",
      "\u001b[?25hRequirement already satisfied: charset-normalizer<4,>=2 in /home/jp/.local/lib/python3.10/site-packages (from requests>=2.5.0->hda) (3.2.0)\n",
      "Requirement already satisfied: idna<4,>=2.5 in /usr/lib/python3/dist-packages (from requests>=2.5.0->hda) (3.3)\n",
      "Requirement already satisfied: urllib3<3,>=1.21.1 in /usr/lib/python3/dist-packages (from requests>=2.5.0->hda) (1.26.5)\n",
      "Requirement already satisfied: certifi>=2017.4.17 in /usr/lib/python3/dist-packages (from requests>=2.5.0->hda) (2020.6.20)\n",
      "Building wheels for collected packages: hda\n",
      "  Building wheel for hda (setup.py) ... \u001b[?25ldone\n",
      "\u001b[?25h  Created wheel for hda: filename=hda-1.15-py3-none-any.whl size=13948 sha256=ccab912fc2e215804d2db61e8319f40426cb50925e66dfa70297e75da252b9ab\n",
      "  Stored in directory: /home/jp/.cache/pip/wheels/fc/f4/c1/3966e0fc4c89b122365b9461c257a2d39fb4ea604227261b5b\n",
      "Successfully built hda\n",
      "Installing collected packages: tqdm, hda\n",
      "Successfully installed hda-1.15 tqdm-4.66.1\n"
     ]
    }
   ],
   "source": [
    "!pip install hda -U"
   ]
  },
  {
   "cell_type": "markdown",
   "metadata": {},
   "source": [
    "*__Note__: version used in this notebook is `1.15`*."
   ]
  },
  {
   "cell_type": "markdown",
   "metadata": {
    "tags": []
   },
   "source": [
    "## Step 2. Import `hda` module"
   ]
  },
  {
   "cell_type": "markdown",
   "metadata": {},
   "source": [
    "The HDA Client provides a fully compliant Python3 Client that can be used to search and download products using the Harmonized Data Access WEkEO API. First let's import the `hda` functions:"
   ]
  },
  {
   "cell_type": "code",
   "execution_count": 1,
   "metadata": {},
   "outputs": [],
   "source": [
    "from hda import Client, Configuration"
   ]
  },
  {
   "cell_type": "markdown",
   "metadata": {},
   "source": [
    "## Step 3. Configure credentials and load `hda` Client"
   ]
  },
  {
   "cell_type": "markdown",
   "metadata": {},
   "source": [
    "### Method 1 (not regular users)"
   ]
  },
  {
   "cell_type": "markdown",
   "metadata": {},
   "source": [
    "Pass your credentials directly in the script:"
   ]
  },
  {
   "cell_type": "code",
   "execution_count": 3,
   "metadata": {},
   "outputs": [],
   "source": [
    "# Configure your credentials without a .hdarc file\n",
    "conf = Configuration(user = \"zapoteca\", password = \"Dzuliferi1\")\n",
    "hda_client = Client(config = conf)"
   ]
  },
  {
   "cell_type": "markdown",
   "metadata": {},
   "source": [
    "### Method 2 (regular users)"
   ]
  },
  {
   "cell_type": "markdown",
   "metadata": {},
   "source": [
    "If you have not yet created your `.hdarc` file to allow **auto-login process**, you can execute this cell (otherwise disregard it):"
   ]
  },
  {
   "cell_type": "code",
   "execution_count": 2,
   "metadata": {},
   "outputs": [
    {
     "name": "stdout",
     "output_type": "stream",
     "text": [
      "Configuration file already exists.\n"
     ]
    }
   ],
   "source": [
    "from pathlib import Path\n",
    "\n",
    "hdarc = Path(Path.home()/'.hdarc')\n",
    "if not hdarc.is_file():\n",
    "    import getpass\n",
    "    USERNAME = input('Enter your username: ')\n",
    "    PASSWORD = getpass.getpass('Enter your password: ')\n",
    "\n",
    "    with open(Path.home()/'.hdarc', 'w') as f:\n",
    "        f.write('url: https://wekeo-broker.apps.mercator.dpi.wekeo.eu/databroker\\n')\n",
    "        f.write(f'user: {USERNAME}\\n')\n",
    "        f.write(f'password:{PASSWORD}\\n')\n",
    "else:\n",
    "    print('Configuration file already exists.')\n",
    "    \n",
    "hda_client = Client()"
   ]
  },
  {
   "cell_type": "markdown",
   "metadata": {},
   "source": [
    "## Step 4. Create the request and download data"
   ]
  },
  {
   "cell_type": "markdown",
   "metadata": {},
   "source": [
    "### Get the dataset metadata"
   ]
  },
  {
   "cell_type": "markdown",
   "metadata": {},
   "source": [
    "Here we are going to download the following Copernicus Land dataset: __EO:EEA:DAT:CLMS_HRVPP_VPP__.\n",
    "\n",
    "To create our request we can ask to the API what parameters are needed.\n",
    "To do so we use the `metadata()` function:"
   ]
  },
  {
   "cell_type": "code",
   "execution_count": 5,
   "metadata": {},
   "outputs": [
    {
     "name": "stdout",
     "output_type": "stream",
     "text": [
      "Help on method metadata in module hda.api:\n",
      "\n",
      "metadata(dataset_id) method of hda.api.Client instance\n",
      "    Returns the metadata object for the given dataset.\n",
      "    \n",
      "    :param dataset_id: The dataset ID\n",
      "    :type dataset_id: str\n",
      "\n"
     ]
    }
   ],
   "source": [
    "help(hda_client.metadata)"
   ]
  },
  {
   "cell_type": "code",
   "execution_count": 4,
   "metadata": {},
   "outputs": [
    {
     "data": {
      "text/plain": [
       "{'datasetId': 'EO:ESA:DAT:SENTINEL-1:SAR',\n",
       " 'parameters': {'boundingBoxes': [{'comment': 'Bounding Box',\n",
       "    'details': {'crs': 'EPSG:4326', 'extent': []},\n",
       "    'isRequired': False,\n",
       "    'label': 'Bounding Box',\n",
       "    'name': 'bbox'}],\n",
       "  'dateRangeSelects': [{'comment': 'Sensing Start / Stop Time',\n",
       "    'details': {'defaultEnd': None,\n",
       "     'defaultStart': '2014-10-06T00:00:00Z',\n",
       "     'end': None,\n",
       "     'start': '2014-10-06T00:00:00Z'},\n",
       "    'isRequired': True,\n",
       "    'label': 'Sensing Start / Stop Time',\n",
       "    'name': 'position'}],\n",
       "  'multiStringSelects': None,\n",
       "  'stringChoices': [{'comment': 'swath',\n",
       "    'details': {'valuesLabels': {'EN': 'EN',\n",
       "      'EW': 'EW',\n",
       "      'EW1': 'EW1',\n",
       "      'EW2': 'EW2',\n",
       "      'EW3': 'EW3',\n",
       "      'EW4': 'EW4',\n",
       "      'EW5': 'EW5',\n",
       "      'IS1': 'IS1',\n",
       "      'IS2': 'IS2',\n",
       "      'IS3': 'IS3',\n",
       "      'IS4': 'IS4',\n",
       "      'IS5': 'IS5',\n",
       "      'IS6': 'IS6',\n",
       "      'IS7': 'IS7',\n",
       "      'IW': 'IW',\n",
       "      'IW1': 'IW1',\n",
       "      'IW2': 'IW2',\n",
       "      'IW3': 'IW3',\n",
       "      'N1': 'N1',\n",
       "      'N2': 'N2',\n",
       "      'N3': 'N3',\n",
       "      'N4': 'N4',\n",
       "      'N5': 'N5',\n",
       "      'N6': 'N6',\n",
       "      'RF': 'RF',\n",
       "      'S1': 'S1',\n",
       "      'S2': 'S2',\n",
       "      'S3': 'S3',\n",
       "      'S4': 'S4',\n",
       "      'S5': 'S5',\n",
       "      'S6': 'S6',\n",
       "      'WV': 'WV',\n",
       "      'WV1': 'WV1',\n",
       "      'WV2': 'WV2'}},\n",
       "    'isRequired': False,\n",
       "    'label': 'swath',\n",
       "    'name': 'swath'},\n",
       "   {'comment': 'Product Type',\n",
       "    'details': {'valuesLabels': {'BS': 'CARD-BS',\n",
       "      'CARD-COH6': 'CARD-COH6',\n",
       "      'GRD': 'GRD',\n",
       "      'GRD-COG': 'GRD-COG',\n",
       "      'OCN': 'OCN',\n",
       "      'PLANNED': 'PLANNED',\n",
       "      'RAW': 'RAW',\n",
       "      'SLC': 'SLC'}},\n",
       "    'isRequired': True,\n",
       "    'label': 'Product Type',\n",
       "    'name': 'productType'},\n",
       "   {'comment': 'Processing Level',\n",
       "    'details': {'valuesLabels': {'LEVEL1': 'LEVEL1', 'LEVEL2': 'LEVEL2'}},\n",
       "    'isRequired': False,\n",
       "    'label': 'Processing Level',\n",
       "    'name': 'processingLevel'},\n",
       "   {'comment': 'Timeliness',\n",
       "    'details': {'valuesLabels': {'Fast-24h': 'Fast-24h',\n",
       "      'NRT-10m': 'NRT-10m',\n",
       "      'NRT-3h': 'NRT-3h',\n",
       "      'Reprocessing': 'Reprocessing'}},\n",
       "    'isRequired': False,\n",
       "    'label': 'Timeliness',\n",
       "    'name': 'timeliness'},\n",
       "   {'comment': 'Orbit Direction',\n",
       "    'details': {'valuesLabels': {'ASCENDING': 'ASCENDING',\n",
       "      'DESCENDING': 'DESCENDING'}},\n",
       "    'isRequired': False,\n",
       "    'label': 'Orbit Direction',\n",
       "    'name': 'orbitDirection'},\n",
       "   {'comment': 'Sensor Mode',\n",
       "    'details': {'valuesLabels': {'EW': 'EW',\n",
       "      'IW': 'IW',\n",
       "      'SM': 'SM',\n",
       "      'WV': 'WV'}},\n",
       "    'isRequired': False,\n",
       "    'label': 'Sensor Mode',\n",
       "    'name': 'sensorMode'},\n",
       "   {'comment': 'polarisation',\n",
       "    'details': {'valuesLabels': {'HH': 'HH',\n",
       "      'HH HV': 'HH HV',\n",
       "      'HV': 'HV',\n",
       "      'VH': 'VH',\n",
       "      'VV': 'VV',\n",
       "      'VV VH': 'VV VH'}},\n",
       "    'isRequired': False,\n",
       "    'label': 'Polarisation',\n",
       "    'name': 'polarisation'}],\n",
       "  'stringInputs': [{'comment': 'Relative orbit number',\n",
       "    'details': {'max_length': 3, 'pattern': '^[0-9]*$'},\n",
       "    'isRequired': False,\n",
       "    'label': 'Relative orbit number',\n",
       "    'name': 'relativeOrbitNumber'},\n",
       "   {'comment': 'missionTakeId',\n",
       "    'details': {'max_length': 40, 'pattern': '^[0-9]*$'},\n",
       "    'isRequired': False,\n",
       "    'label': 'Mission TakeId',\n",
       "    'name': 'missionTakeId'}]},\n",
       " 'rendering': None,\n",
       " 'userTerms': {'accepted': True, 'termsId': 'Copernicus_General_License'}}"
      ]
     },
     "execution_count": 4,
     "metadata": {},
     "output_type": "execute_result"
    }
   ],
   "source": [
    "# Request metadata of a dataset\n",
    "hda_client.metadata(dataset_id=\"EO:ESA:DAT:SENTINEL-1:SAR\")"
   ]
  },
  {
   "cell_type": "code",
   "execution_count": 3,
   "metadata": {},
   "outputs": [],
   "source": [
    "area_1 = [-53.674881, -5.795006, -53.342956, -5.564997]\n",
    "area_2 = [-53.689, -6.290, -53.325, -6.037]\n",
    "area_3 = [-51.806314, -5.794394, -51.541333, -5.523872]\n",
    "\n",
    "date_min = \"2021-10-06T00:00:00.000Z\"\n",
    "date_max = \"2021-11-07T00:00:00.000Z\""
   ]
  },
  {
   "cell_type": "markdown",
   "metadata": {},
   "source": [
    "## Create the request"
   ]
  },
  {
   "cell_type": "markdown",
   "metadata": {},
   "source": [
    "Based on this information we can create the request below."
   ]
  },
  {
   "cell_type": "markdown",
   "metadata": {},
   "source": [
    "<div class=\"alert alert-block alert-info\">\n",
    "    📌 <b>Note</b>: to learn how to get your query from the Data Viewer, please check <a href=\"https://help.wekeo.eu/en/articles/6416936-how-to-download-wekeo-data#h_85849dcd7a\">this article</a>.\n",
    "</div>"
   ]
  },
  {
   "cell_type": "code",
   "execution_count": 5,
   "metadata": {},
   "outputs": [],
   "source": [
    "query = {\n",
    "  \"datasetId\": \"EO:ESA:DAT:SENTINEL-1:SAR\",\n",
    "  \"boundingBoxValues\": [\n",
    "    {\n",
    "      \"name\": \"bbox\",\n",
    "      \"bbox\": area_1\n",
    "    }\n",
    "  ],\n",
    "  \"dateRangeSelectValues\": [\n",
    "    {\n",
    "      \"name\": \"position\",\n",
    "      \"start\": \"2021-10-06T00:00:00.000Z\",\n",
    "      \"end\": \"2021-11-07T00:00:00.000Z\"\n",
    "    }\n",
    "  ],\n",
    "  \"stringChoiceValues\": [\n",
    "    {\n",
    "      \"name\": \"productType\",\n",
    "      \"value\": \"SLC\"\n",
    "    }\n",
    "  ]\n",
    "}"
   ]
  },
  {
   "cell_type": "markdown",
   "metadata": {},
   "source": [
    "<div class=\"alert alert-block alert-info\">\n",
    "    📌 <b>Note</b>: the geographical coordinates in the <code>bbox</code> are ordered as: <code>[longitude_min, latitude_min, longitude_max, latitude_max]</code>\n",
    "</div>"
   ]
  },
  {
   "cell_type": "markdown",
   "metadata": {},
   "source": [
    "## Search data"
   ]
  },
  {
   "cell_type": "markdown",
   "metadata": {},
   "source": [
    "The `search()` function launches the search of the data you requested with the specific parameters. It may take some time, as the server processes it."
   ]
  },
  {
   "cell_type": "code",
   "execution_count": 6,
   "metadata": {},
   "outputs": [
    {
     "name": "stdout",
     "output_type": "stream",
     "text": [
      "SearchResults[items=3,volume=0,jobId=Fye3c2LYFULWzyY26h2ltAwSPTY]\n"
     ]
    }
   ],
   "source": [
    "matches = hda_client.search(query)\n",
    "print(matches)"
   ]
  },
  {
   "cell_type": "code",
   "execution_count": 8,
   "metadata": {},
   "outputs": [
    {
     "name": "stdout",
     "output_type": "stream",
     "text": [
      "[{'downloadUri': None, 'extraInformation': {'cloudCover': 0, 'footprint': {'coordinates': [[[[-50.86348, -6.379965], [-50.511562, -4.750779], [-52.761547, -4.253418], [-53.120296, -5.876746], [-50.86348, -6.379965]]]], 'type': 'MultiPolygon'}}, 'filename': 'S1A_IW_SLC__1SDV_20211102T090717_20211102T090744_040390_04C99F_964D.zip', 'order': None, 'productInfo': {'datasetId': 'EO:ESA:DAT:SENTINEL-1:SAR', 'product': 'S1A_IW_SLC__1SDV_20211102T090717_20211102T090744_040390_04C99F_964D.SAFE', 'productEndDate': '2021-11-02T09:07:44Z', 'productStartDate': '2021-11-02T09:07:17Z'}, 'size': 0, 'url': 'fe25788f-bf2e-5f4d-bd98-367c736975ca/S1A_IW_SLC__1SDV_20211102T090717_20211102T090744_040390_04C99F_964D.zip'}]\n"
     ]
    }
   ],
   "source": [
    "print(matches[0].results)"
   ]
  },
  {
   "cell_type": "markdown",
   "metadata": {},
   "source": [
    "We can see that we can download **12 items**, for a total **volume of 1.1 GB**."
   ]
  },
  {
   "cell_type": "markdown",
   "metadata": {},
   "source": [
    "## Download file(s)"
   ]
  },
  {
   "cell_type": "markdown",
   "metadata": {},
   "source": [
    "On WEkEO's JupyterHub you are limited to 20GB of stockage space, so be careful of the total size of files your request generated.  \n",
    "Follow one of these two options to download your files:  \n",
    "- __Option 1__: in your current working directory __for data <20GB__\n",
    "- __Option 2__: in a S3 bucket __without data size limit__"
   ]
  },
  {
   "cell_type": "markdown",
   "metadata": {},
   "source": [
    "<div class=\"alert alert-block alert-info\">\n",
    "    📌 <b>Note</b>: you need to <a href=\"https://help.wekeo.eu/en/articles/6344723-registration-and-offer-plans\">upgrade your plan</a> to have a tenant where you can <a href=\"https://help.wekeo.eu/en/articles/6618276-how-to-create-and-access-s3-buckets-on-wekeo\">create S3 buckets</a>. \n",
    "</div>"
   ]
  },
  {
   "cell_type": "markdown",
   "metadata": {},
   "source": [
    "### Option 1"
   ]
  },
  {
   "cell_type": "markdown",
   "metadata": {},
   "source": [
    "You can run `matches.download()` to download all the files of your request.  \n",
    "Please [read the documentation](https://hda.readthedocs.io/en/latest/usage.html#advanced-client-usage) for advanced usage such as:\n",
    "- downloading first result: `matches[0].download()`\n",
    "- downloading last result: `matches[-1].download()`\n",
    "- downloading first 10 results: `matches[:10].download()`\n",
    "- downloading even results: `matches[::2].download()`\n",
    "- etc.\n",
    "\n",
    "For the purpose of this example, we are going to fetch the last result:"
   ]
  },
  {
   "cell_type": "code",
   "execution_count": 9,
   "metadata": {
    "tags": []
   },
   "outputs": [
    {
     "name": "stderr",
     "output_type": "stream",
     "text": [
      "                                                       \r"
     ]
    }
   ],
   "source": [
    "OUTPUT_PATH = '/media/jp/FreeAgent GoFlex Drive/SAR'\n",
    "matches[0].download(OUTPUT_PATH)"
   ]
  },
  {
   "cell_type": "markdown",
   "metadata": {},
   "source": [
    "The `download()` function launches the download of the file(s) your request generated. They will be downloaded in the same folder as this notebook unless you specify an existing directory as `OUTPUT_PATH`."
   ]
  },
  {
   "cell_type": "markdown",
   "metadata": {},
   "source": [
    "### Option 2"
   ]
  },
  {
   "cell_type": "markdown",
   "metadata": {},
   "source": [
    "In order to save your files in a S3 bucket, you will first download them in a temporary folder:"
   ]
  },
  {
   "cell_type": "code",
   "execution_count": 8,
   "metadata": {},
   "outputs": [],
   "source": [
    "# Create your temporary folder\n",
    "import pathlib\n",
    "OUTPUT_DIR = f\"/tmp/folder_for_bucket\"\n",
    "pathlib.Path(OUTPUT_DIR).mkdir(parents=True, exist_ok=True)"
   ]
  },
  {
   "cell_type": "code",
   "execution_count": 9,
   "metadata": {},
   "outputs": [
    {
     "name": "stderr",
     "output_type": "stream",
     "text": [
      "2022-12-22 11:36:42,470 INFO Downloading https://wekeo-broker.apps.mercator.dpi.wekeo.eu/databroker/dataorder/download/H1lYFxiGzXjvGNXbBpW2Q0Ls7xo to VPP_2020_S2_T29TMH-010m_V101_s1_TPROD.tif (27.1M)\n",
      "2022-12-22 11:36:46,822 INFO Download rate 6.2M/s   \n",
      "2022-12-22 11:36:53,927 INFO Downloading https://wekeo-broker.apps.mercator.dpi.wekeo.eu/databroker/dataorder/download/jX-BJKThm5nsJ4t1JBHGD5fxXH8 to VPP_2020_S2_T29TMJ-010m_V101_s1_TPROD.tif (927.6K)\n",
      "2022-12-22 11:36:57,661 INFO Download rate 248.5K/s\n",
      "2022-12-22 11:37:09,150 INFO Downloading https://wekeo-broker.apps.mercator.dpi.wekeo.eu/databroker/dataorder/download/zZk3TkCH3n-Bmwz1xrCnRya7cjY to VPP_2020_S2_T29TNH-010m_V101_s1_TPROD.tif (194.8M)\n",
      "2022-12-22 11:37:16,993 INFO Download rate 24.8M/s \n",
      "2022-12-22 11:37:23,730 INFO Downloading https://wekeo-broker.apps.mercator.dpi.wekeo.eu/databroker/dataorder/download/csP3IS2QiuF-m3DJPbSPFh9ib_s to VPP_2020_S2_T29TNJ-010m_V101_s1_TPROD.tif (49.1M)\n",
      "2022-12-22 11:37:30,580 INFO Download rate 7.2M/s   \n",
      "2022-12-22 11:37:47,299 INFO Downloading https://wekeo-broker.apps.mercator.dpi.wekeo.eu/databroker/dataorder/download/X1bUhmp26gvD30eas_CFDlRW7I8 to VPP_2020_S2_T29TPH-010m_V101_s1_TPROD.tif (204.4M)\n",
      "2022-12-22 11:37:55,367 INFO Download rate 25.3M/s \n",
      "2022-12-22 11:38:05,462 INFO Downloading https://wekeo-broker.apps.mercator.dpi.wekeo.eu/databroker/dataorder/download/OXPcFxdOXI62r_R4Nsy0p7wI_kI to VPP_2020_S2_T29TPJ-010m_V101_s1_TPROD.tif (76.2M)\n",
      "2022-12-22 11:38:10,508 INFO Download rate 15.1M/s  \n",
      "2022-12-22 11:38:27,226 INFO Downloading https://wekeo-broker.apps.mercator.dpi.wekeo.eu/databroker/dataorder/download/VVibCmpfohU-Nc1fS_AZeREuJZc to VPP_2021_S2_T29TMH-010m_V101_s1_TPROD.tif (27.6M)\n",
      "2022-12-22 11:38:36,690 INFO Download rate 2.9M/s   \n",
      "2022-12-22 11:39:00,017 INFO Downloading https://wekeo-broker.apps.mercator.dpi.wekeo.eu/databroker/dataorder/download/pcQVMgXH7iOnRQmiUPb-4PmxcSk to VPP_2021_S2_T29TMJ-010m_V101_s1_TPROD.tif (901.5K)\n",
      "2022-12-22 11:39:07,511 INFO Download rate 120.3K/s\n",
      "2022-12-22 11:39:24,334 INFO Downloading https://wekeo-broker.apps.mercator.dpi.wekeo.eu/databroker/dataorder/download/oveO3ubxmvArDLnIDWPnzpULiaY to VPP_2021_S2_T29TNH-010m_V101_s1_TPROD.tif (196M)\n",
      "2022-12-22 11:39:33,539 INFO Download rate 21.3M/s \n",
      "2022-12-22 11:39:45,203 INFO Downloading https://wekeo-broker.apps.mercator.dpi.wekeo.eu/databroker/dataorder/download/spxLtt2pDiAAmZMBCHUMV8eV8y8 to VPP_2021_S2_T29TNJ-010m_V101_s1_TPROD.tif (49.2M)\n",
      "2022-12-22 11:39:49,975 INFO Download rate 10.3M/s  \n",
      "2022-12-22 11:39:57,365 INFO Downloading https://wekeo-broker.apps.mercator.dpi.wekeo.eu/databroker/dataorder/download/ek4qHNMsIuUgYttXSMfTReDTGhc to VPP_2021_S2_T29TPH-010m_V101_s1_TPROD.tif (204.8M)\n",
      "2022-12-22 11:40:05,902 INFO Download rate 24M/s   \n",
      "2022-12-22 11:40:17,594 INFO Downloading https://wekeo-broker.apps.mercator.dpi.wekeo.eu/databroker/dataorder/download/QRXHZehoNp8RQAPvqWCj7VG9YqQ to VPP_2021_S2_T29TPJ-010m_V101_s1_TPROD.tif (76.5M)\n",
      "2022-12-22 11:40:23,675 INFO Download rate 12.6M/s  \n"
     ]
    }
   ],
   "source": [
    "# Download all files in this new folder\n",
    "matches.download(OUTPUT_DIR)"
   ]
  },
  {
   "cell_type": "markdown",
   "metadata": {},
   "source": [
    "Once the files are downloaded in the temporary folder, change the following parameters according to your own bucket.  \n",
    "To find these informations, go to [Infrastructure > Storage](https://morpheus.dpi.wekeo.eu/infrastructure/storage/buckets) and click on the bucket of your choice (or add one if you don't have any yet)."
   ]
  },
  {
   "cell_type": "markdown",
   "metadata": {},
   "source": [
    "<div style='text-align:center;'>\n",
    "<figure><img src=\"https://i.imgur.com/YyKyNhx.png\">\n",
    "</figure>\n",
    "</div>"
   ]
  },
  {
   "cell_type": "markdown",
   "metadata": {},
   "source": [
    "<div class=\"alert alert-block alert-info\">\n",
    "    📌 <b>Note</b>: you will find the secret key in the answer of the WEkEO User Support.\n",
    "</div>"
   ]
  },
  {
   "cell_type": "code",
   "execution_count": 10,
   "metadata": {},
   "outputs": [],
   "source": [
    "import getpass\n",
    "\n",
    "# Change these parameters for your own bucket\n",
    "bucketname = \"firstbucket\"\n",
    "aws_access_key_id = input('Enter your access key id: ')\n",
    "aws_secret_access_key = getpass.getpass('Enter your secret access key: ')\n",
    "endpoint_url = input('Enter your endpoint URL: ')\n",
    "\n",
    "# Name of the output folder in your bucket\n",
    "bucket_folder = \"My_data\""
   ]
  },
  {
   "cell_type": "markdown",
   "metadata": {},
   "source": [
    "Finally, run this cell to write all the downloaded files from the temporary folder to your bucket: "
   ]
  },
  {
   "cell_type": "code",
   "execution_count": 12,
   "metadata": {},
   "outputs": [],
   "source": [
    "# Import modules\n",
    "import os\n",
    "import boto3\n",
    "import urllib3\n",
    "\n",
    "# Open boto3 connection\n",
    "session=boto3.session.Session()\n",
    "\n",
    "# Connect to your bucket\n",
    "s3_client = session.client(\n",
    "    service_name='s3',\n",
    "    aws_access_key_id=aws_access_key_id,\n",
    "    aws_secret_access_key=aws_secret_access_key,\n",
    "    endpoint_url=endpoint_url,\n",
    ")\n",
    "\n",
    "# Save files into your bucket folder\n",
    "for root,dirs,files in os.walk(OUTPUT_DIR):\n",
    "    for file in files:\n",
    "        s3_client.upload_file(os.path.join(root,file), bucketname, os.path.join(bucket_folder,file))"
   ]
  },
  {
   "cell_type": "markdown",
   "metadata": {},
   "source": [
    "## Additional Information\n",
    "---\n",
    "\n",
    "#### Compatible Data Science Toolkits"
   ]
  },
  {
   "cell_type": "code",
   "execution_count": 13,
   "metadata": {},
   "outputs": [
    {
     "data": {
      "text/plain": [
       "'1.15'"
      ]
     },
     "execution_count": 13,
     "metadata": {},
     "output_type": "execute_result"
    }
   ],
   "source": [
    "import pkg_resources; pkg_resources.get_distribution(\"hda\").version"
   ]
  },
  {
   "cell_type": "markdown",
   "metadata": {},
   "source": [
    "#### Last Modified and Tested"
   ]
  },
  {
   "cell_type": "code",
   "execution_count": 14,
   "metadata": {},
   "outputs": [
    {
     "name": "stdout",
     "output_type": "stream",
     "text": [
      "2023-04-12\n"
     ]
    }
   ],
   "source": [
    "from datetime import date; print(date.today())"
   ]
  },
  {
   "cell_type": "markdown",
   "metadata": {},
   "source": [
    "<img src='https://github.com/wekeo/ai4EM_MOOC/raw/04147f290cfdcce341f819eab7ad037b95f25600/img/ai4eo_logos.jpg' alt='Logo EU Copernicus WEkEO' align='center' width='100%'></img>"
   ]
  }
 ],
 "metadata": {
  "author": "Ben Loveday, Hayley Evers-King",
  "description": "This Jupyter Notebook covers how to access SLSTR data via the WEKEO catalogue using the HDA adaptor.",
  "github": "https://github.com/wekeo/learn-slstr/blob/master/1_SLSTR_introductory/1_1b_SLSTR_data_access_HDA.ipynb",
  "image": "../img/thumbs/1_1b_SLSTR_data_access_HDA_thumb.png",
  "kernelspec": {
   "display_name": "Python 3 (ipykernel)",
   "language": "python",
   "name": "python3"
  },
  "language_info": {
   "codemirror_mode": {
    "name": "ipython",
    "version": 3
   },
   "file_extension": ".py",
   "mimetype": "text/x-python",
   "name": "python",
   "nbconvert_exporter": "python",
   "pygments_lexer": "ipython3",
   "version": "3.10.12"
  },
  "link": "https://jupyterhub-wekeo.apps.eumetsat.dpi.wekeo.eu/hub/user-redirect/lab/tree/public/ocean/learn-slstr/1_SLSTR_introductory/1_1b_SLSTR_data_access_HDA.ipynb",
  "tags": {
   "domain": "Ocean",
   "platform": "Sentinel-3",
   "sensor": "SLSTR",
   "tags": [
    "Top-of-atmosphere radiance",
    "Brightness temperature",
    "Sea surface temperature",
    "Sea ice surface temperature"
   ]
  },
  "title": "SLSTR data access via the WEkEO HDA adaptor",
  "toc": {
   "base_numbering": 1,
   "nav_menu": {},
   "number_sections": true,
   "sideBar": true,
   "skip_h1_title": true,
   "title_cell": "Table of Contents",
   "title_sidebar": "Contents",
   "toc_cell": false,
   "toc_position": {},
   "toc_section_display": true,
   "toc_window_display": false
  }
 },
 "nbformat": 4,
 "nbformat_minor": 4
}
