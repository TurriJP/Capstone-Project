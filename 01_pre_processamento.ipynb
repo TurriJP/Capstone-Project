{
  "cells": [
    {
      "cell_type": "code",
      "execution_count": 1,
      "metadata": {
        "id": "1z3bg-zTwCDN"
      },
      "outputs": [
        {
          "name": "stderr",
          "output_type": "stream",
          "text": [
            "INFO: org.esa.snap.core.gpf.operators.tooladapter.ToolAdapterIO: Initializing external tool adapters\n",
            "INFO: org.esa.snap.core.util.EngineVersionCheckActivator: Please check regularly for new updates for the best SNAP experience.\n"
          ]
        }
      ],
      "source": [
        "# Bibliotecas\n",
        "import sys\n",
        "sys.path.append('/home/jp/.snap/snap-python')\n",
        "import snappy\n",
        "from snappy import GPF\n",
        "from snappy import ProductIO\n",
        "from snappy import HashMap\n",
        "from snappy import jpy\n",
        "from snappy import ProductUtils\n",
        "from snappy import WKTReader\n",
        "import rasterio as rio\n",
        "import matplotlib.pyplot as plt"
      ]
    },
    {
      "cell_type": "code",
      "execution_count": 2,
      "metadata": {},
      "outputs": [],
      "source": [
        "base_path = '/media/jp/FreeAgent GoFlex Drive/SAR/SLC_raw/AE04/'\n",
        "file_path = 'S1A_IW_SLC__1SDV_20220817T090719_20220817T090746_044590_055287_A29D.zip'\n",
        "file = base_path + file_path"
      ]
    },
    {
      "cell_type": "code",
      "execution_count": 3,
      "metadata": {
        "id": "9MGxjc1rwHSR"
      },
      "outputs": [],
      "source": [
        "# Funçao para entender os parâmetros de cada operador\n",
        "def op_info(operator):\n",
        "  op = snappy.GPF.getDefaultInstance().getOperatorSpiRegistry().getOperatorSpi(operator)\n",
        "  print('Nome do operador: {} '.format(op.getOperatorDescriptor().getName()))\n",
        "  print('Nome do operador na API: {} '.format(op.getOperatorDescriptor().getAlias()))\n",
        "  param_desc = op.getOperatorDescriptor().getParameterDescriptors()\n",
        "  for i in param_desc:\n",
        "    print('{}: {}\\nValor padrao: {}\\n'.format(i.getName(), i.getDescription(), i.getDefaultValue()))"
      ]
    },
    {
      "cell_type": "code",
      "execution_count": 4,
      "metadata": {
        "id": "PV8I0DFk7x9E"
      },
      "outputs": [],
      "source": [
        "# Acessando os operadores Java\n",
        "HashMap = jpy.get_type('java.util.HashMap')\n",
        "parameters = HashMap()\n",
        "\n",
        "# Função para ler arquivo\n",
        "def read(file):\n",
        "  return ProductIO.readProduct(file)\n",
        "\n",
        "# Funçao para gravar arquivo\n",
        "def write(product, file):\n",
        "  ProductIO.writeProduct(product, file, \"GeoTIFF\")"
      ]
    },
    {
      "cell_type": "code",
      "execution_count": 5,
      "metadata": {
        "id": "gNv1UW8X9SeW"
      },
      "outputs": [],
      "source": [
        "# TOPSAR-Split\n",
        "def split(product, sub, first_burst, last_burst):\n",
        "    parameters.put('subswath', sub)\n",
        "    parameters.put('selectedPolarisations', 'VH,VV')\n",
        "    parameters.put('firstBurstIndex', first_burst)\n",
        "    parameters.put('lastBurstIndex', last_burst)\n",
        "    return GPF.createProduct(\"TOPSAR-Split\", parameters, product)"
      ]
    },
    {
      "cell_type": "code",
      "execution_count": 6,
      "metadata": {
        "id": "i4JuHrDH-pDO"
      },
      "outputs": [],
      "source": [
        "# Orbit files\n",
        "def apply_orbit_file(product):   \n",
        "    parameters.put(\"Orbit State Vectors\", \"Sentinel Precise (Auto Download)\")\n",
        "    parameters.put(\"Polynomial Degree\", 3) \n",
        "    parameters.put('continueOnFail', 'false')   \n",
        "    return GPF.createProduct(\"Apply-Orbit-File\", parameters, product)"
      ]
    },
    {
      "cell_type": "code",
      "execution_count": 7,
      "metadata": {
        "id": "fveOuL3Q_aav"
      },
      "outputs": [],
      "source": [
        "# Calibration\n",
        "def calibration(product):\n",
        "    parameters.put('selectedPolarisations', 'VH,VV')\n",
        "    parameters.put('outputImageInComplex', 'true')\n",
        "    parameters.put('outputImageScaleInDb', 'false')\n",
        "\n",
        "    return GPF.createProduct('Calibration', parameters, product)"
      ]
    },
    {
      "cell_type": "code",
      "execution_count": 8,
      "metadata": {
        "id": "uWTRHzf8_2Fa"
      },
      "outputs": [],
      "source": [
        "# Deburst\n",
        "def deburst(product):\n",
        "    parameters.put(\"Polarisations\", \"VH, VV\")\n",
        "    return GPF.createProduct(\"TOPSAR-Deburst\", parameters, product)"
      ]
    },
    {
      "cell_type": "code",
      "execution_count": 9,
      "metadata": {
        "id": "Ly39WnQ3AMYA"
      },
      "outputs": [],
      "source": [
        "# Matriz C2\n",
        "def C2_matrix(product):\n",
        "  parameters.put('matrix', 'C2')\n",
        "\n",
        "  return GPF.createProduct('Polarimetric-Matrices', parameters, product)"
      ]
    },
    {
      "cell_type": "code",
      "execution_count": 10,
      "metadata": {
        "id": "ygUyqtWJAhwb"
      },
      "outputs": [],
      "source": [
        "# Speckle filter\n",
        "def speckle_filter(product):\n",
        "  return GPF.createProduct('Speckle-Filter', parameters, product)"
      ]
    },
    {
      "cell_type": "code",
      "execution_count": 11,
      "metadata": {
        "id": "rQdEd4kCA5pG"
      },
      "outputs": [],
      "source": [
        "# Terrain Correction\n",
        "def terrain_correction(product):\n",
        "  parameters.put('demName', 'Copernicus 30m Global DEM')\n",
        "  parameters.put('demResamplingMethod', 'NEAREST_NEIGHBOUR')\n",
        "  parameters.put('imgResamplingMethod', 'NEAREST_NEIGHBOUR')\n",
        "  parameters.put('mapProjection', 'EPSG:32722')\n",
        "  parameters.put('pixelSpacingInMeter', 14.78)\n",
        "  parameters.put('outputComplex', 'true')\n",
        "  return GPF.createProduct('Terrain-Correction', parameters, product)"
      ]
    },
    {
      "cell_type": "code",
      "execution_count": 12,
      "metadata": {
        "id": "hVKNNBKaDoEc"
      },
      "outputs": [],
      "source": [
        "# Multilooking\n",
        "def multilooking(product):\n",
        "  parameters.put('nRgLooks', 4)\n",
        "  parameters.put('nAzLooks', 1)\n",
        "  parameters.put('outputIntensity', 'true')\n",
        "  parameters.put('grSquarePixel', 'true')\n",
        "  return GPF.createProduct('Multilook', parameters, product )"
      ]
    },
    {
      "cell_type": "code",
      "execution_count": 13,
      "metadata": {
        "id": "T8QBa60WBqiz"
      },
      "outputs": [],
      "source": [
        "# Linear to dB\n",
        "def linear_to_db(product):\n",
        "  #parameters.put('sourceBands', 'Intensity_IW2_VH, Intensity_IW2_VV')\n",
        "  return GPF.createProduct('LinearToFromdB', parameters, product)"
      ]
    },
    {
      "cell_type": "code",
      "execution_count": 14,
      "metadata": {},
      "outputs": [],
      "source": [
        "def subset(product, wkt):\n",
        "    geom = WKTReader().read(wkt)\n",
        "    parameters.put('copyMetadata', True)\n",
        "    parameters.put('geoRegion', geom)\n",
        "    SAR_image_subset = GPF.createProduct('Subset', parameters, product)\n",
        "    return SAR_image_subset"
      ]
    },
    {
      "cell_type": "code",
      "execution_count": 15,
      "metadata": {
        "id": "T_QL2wntCKCr"
      },
      "outputs": [],
      "source": [
        "# # Fluxo de processos\n",
        "# def workflow(file):\n",
        "\n",
        "#   print('read')\n",
        "#   product = read(file)\n",
        "\n",
        "#   print('TOPSAR-split')\n",
        "#   spt = split(product)\n",
        "\n",
        "#   print('Orbit file')\n",
        "#   orbit = apply_orbit_file(spt)\n",
        "\n",
        "#   print('Calibration')\n",
        "#   cal = calibration(orbit)\n",
        "\n",
        "#   print('Deburst')\n",
        "#   deb = deburst(cal)\n",
        "\n",
        "#   print('C2')\n",
        "#   C2 = C2_matrix(deb)\n",
        "#   write(C2, '/home/jp/Documents/IME/TCC/CODE/Capstone-Project/data/c2/area4_'+'C2.tif')\n",
        "\n",
        "#   # print('Speckle filter')\n",
        "#   spk = speckle_filter(deb)\n",
        "#   spk = deb\n",
        "\n",
        "#   print('Multilooking')\n",
        "#   mult = multilooking(spk)\n",
        "\n",
        "#   print('Terrain Correction')\n",
        "#   TC = terrain_correction(mult)\n",
        "\n",
        "#   print('to dB')\n",
        "#   dB = linear_to_db(TC)\n",
        "#   write(dB, '/media/jp/FreeAgent GoFlex Drive/SAR/SLC_raw/AE04/area4_split_orb_cal_deb_spk_mult_TC_dB.tif')\n"
      ]
    },
    {
      "cell_type": "code",
      "execution_count": 16,
      "metadata": {},
      "outputs": [],
      "source": [
        "wkt_dict = {\n",
        "    'area4': 'POLYGON((-50.769733 -4.627111, -50.562011 -4.627011, -50.561858 -4.865567, -50.769656 -4.865669, -50.769733 -4.627111))'\n",
        "}\n",
        "\n",
        "swath_dict = {\n",
        "    'area4': {\n",
        "        'sub': 'IW1',\n",
        "        'first': '1',\n",
        "        'last': '2'\n",
        "    } \n",
        "}"
      ]
    },
    {
      "cell_type": "code",
      "execution_count": 17,
      "metadata": {},
      "outputs": [],
      "source": [
        "# Fluxo de processos\n",
        "def workflow_SLC(file, area_name):\n",
        "\n",
        "  print('read')\n",
        "  product = read(file)\n",
        "\n",
        "  print('TOPSAR-split')\n",
        "  swath = swath_dict.get(area_name)\n",
        "  spt = split(product, swath.get('sub'), swath.get('first'), swath.get('last'))\n",
        "\n",
        "  print('Orbit file')\n",
        "  orbit = apply_orbit_file(spt)\n",
        "\n",
        "  print('Calibration')\n",
        "  cal = calibration(orbit)\n",
        "\n",
        "  print('Deburst')\n",
        "  deb = deburst(cal)\n",
        "\n",
        "  print('Terrain Correction')\n",
        "  TC = terrain_correction(deb)\n",
        "\n",
        "  TC = subset(TC, wkt_dict.get(area_name))\n",
        "\n",
        "  print('C2')\n",
        "  C2 = C2_matrix(TC)\n",
        "  write(C2, f'/home/jp/Documents/IME/TCC/CODE/Capstone-Project/data/c2/{area_name}_'+'C2.tif')\n",
        "\n",
        "  # print('Speckle filter')\n",
        "  spk = speckle_filter(TC)\n",
        "  spk = deb\n",
        "\n",
        "  print('Multilooking')\n",
        "  mult = multilooking(spk)\n",
        "\n",
        "  print('to dB')\n",
        "  dB = linear_to_db(mult)\n",
        "  write(dB, f'/media/jp/FreeAgent GoFlex Drive/SAR/SLC_raw/AE04/{area_name}_split_orb_cal_deb_spk_mult_TC_dB.tif')"
      ]
    },
    {
      "cell_type": "code",
      "execution_count": 19,
      "metadata": {
        "colab": {
          "base_uri": "https://localhost:8080/"
        },
        "id": "BGKWl6JzEr4v",
        "outputId": "2f6da991-0669-440c-d2bc-1488c6ea0b7f"
      },
      "outputs": [
        {
          "name": "stdout",
          "output_type": "stream",
          "text": [
            "read\n",
            "TOPSAR-split\n",
            "Orbit file\n",
            "\n",
            "100% done.\n",
            "OpenSearch: https://scihub.copernicus.eu/gnss/search?q=platformname:Sentinel-1 AND platformnumber:A AND producttype:AUX_POEORB AND beginposition:[2022-08-01T00:00:000Z TO 2022-08-31T24:00:000Z]\n",
            "OpenSearch: https://scihub.copernicus.eu/gnss/search?q=platformname:Sentinel-1 AND platformnumber:A AND producttype:AUX_RESORB AND beginposition:[2022-08-01T00:00:000Z TO 2022-08-31T24:00:000Z]\n",
            "No valid orbit file found for 17-AUG-2022 09:06:14.224466\n",
            "Orbit files may be downloaded from https://scihub.copernicus.eu/gnss/odata/v1/\n",
            "and placed in /home/jp/.snap/auxdata/Orbits/Sentinel-1/POEORB/S1A/2022/08\n"
          ]
        },
        {
          "name": "stderr",
          "output_type": "stream",
          "text": [
            "WARNING: org.esa.s1tbx.orbits.gpf.ApplyOrbitFileOp: No valid orbit file found for 17-AUG-2022 09:06:14.224466\n",
            "Orbit files may be downloaded from https://scihub.copernicus.eu/gnss/odata/v1/\n",
            "and placed in /home/jp/.snap/auxdata/Orbits/Sentinel-1/POEORB/S1A/2022/08\n"
          ]
        },
        {
          "ename": "RuntimeError",
          "evalue": "org.esa.snap.core.gpf.OperatorException: No valid orbit file found for 17-AUG-2022 09:06:14.224466\nOrbit files may be downloaded from https://scihub.copernicus.eu/gnss/odata/v1/\nand placed in /home/jp/.snap/auxdata/Orbits/Sentinel-1/POEORB/S1A/2022/08",
          "output_type": "error",
          "traceback": [
            "\u001b[0;31m---------------------------------------------------------------------------\u001b[0m",
            "\u001b[0;31mRuntimeError\u001b[0m                              Traceback (most recent call last)",
            "Cell \u001b[0;32mIn[19], line 1\u001b[0m\n\u001b[0;32m----> 1\u001b[0m workflow_SLC(file, \u001b[39m'\u001b[39;49m\u001b[39marea4\u001b[39;49m\u001b[39m'\u001b[39;49m)\n",
            "Cell \u001b[0;32mIn[17], line 12\u001b[0m, in \u001b[0;36mworkflow_SLC\u001b[0;34m(file, area_name)\u001b[0m\n\u001b[1;32m      9\u001b[0m spt \u001b[39m=\u001b[39m split(product, swath\u001b[39m.\u001b[39mget(\u001b[39m'\u001b[39m\u001b[39msub\u001b[39m\u001b[39m'\u001b[39m), swath\u001b[39m.\u001b[39mget(\u001b[39m'\u001b[39m\u001b[39mfirst\u001b[39m\u001b[39m'\u001b[39m), swath\u001b[39m.\u001b[39mget(\u001b[39m'\u001b[39m\u001b[39mlast\u001b[39m\u001b[39m'\u001b[39m))\n\u001b[1;32m     11\u001b[0m \u001b[39mprint\u001b[39m(\u001b[39m'\u001b[39m\u001b[39mOrbit file\u001b[39m\u001b[39m'\u001b[39m)\n\u001b[0;32m---> 12\u001b[0m orbit \u001b[39m=\u001b[39m apply_orbit_file(spt)\n\u001b[1;32m     14\u001b[0m \u001b[39mprint\u001b[39m(\u001b[39m'\u001b[39m\u001b[39mCalibration\u001b[39m\u001b[39m'\u001b[39m)\n\u001b[1;32m     15\u001b[0m cal \u001b[39m=\u001b[39m calibration(orbit)\n",
            "Cell \u001b[0;32mIn[6], line 6\u001b[0m, in \u001b[0;36mapply_orbit_file\u001b[0;34m(product)\u001b[0m\n\u001b[1;32m      4\u001b[0m parameters\u001b[39m.\u001b[39mput(\u001b[39m\"\u001b[39m\u001b[39mPolynomial Degree\u001b[39m\u001b[39m\"\u001b[39m, \u001b[39m3\u001b[39m) \n\u001b[1;32m      5\u001b[0m parameters\u001b[39m.\u001b[39mput(\u001b[39m'\u001b[39m\u001b[39mcontinueOnFail\u001b[39m\u001b[39m'\u001b[39m, \u001b[39m'\u001b[39m\u001b[39mfalse\u001b[39m\u001b[39m'\u001b[39m)   \n\u001b[0;32m----> 6\u001b[0m \u001b[39mreturn\u001b[39;00m GPF\u001b[39m.\u001b[39;49mcreateProduct(\u001b[39m\"\u001b[39;49m\u001b[39mApply-Orbit-File\u001b[39;49m\u001b[39m\"\u001b[39;49m, parameters, product)\n",
            "\u001b[0;31mRuntimeError\u001b[0m: org.esa.snap.core.gpf.OperatorException: No valid orbit file found for 17-AUG-2022 09:06:14.224466\nOrbit files may be downloaded from https://scihub.copernicus.eu/gnss/odata/v1/\nand placed in /home/jp/.snap/auxdata/Orbits/Sentinel-1/POEORB/S1A/2022/08"
          ]
        },
        {
          "name": "stderr",
          "output_type": "stream",
          "text": [
            "INFO: org.hsqldb.persist.Logger: Database closed\n"
          ]
        }
      ],
      "source": [
        "workflow_SLC(file, 'area4')"
      ]
    }
  ],
  "metadata": {
    "colab": {
      "provenance": []
    },
    "kernelspec": {
      "display_name": "Python 3",
      "name": "python3"
    },
    "language_info": {
      "codemirror_mode": {
        "name": "ipython",
        "version": 3
      },
      "file_extension": ".py",
      "mimetype": "text/x-python",
      "name": "python",
      "nbconvert_exporter": "python",
      "pygments_lexer": "ipython3",
      "version": "3.8.18"
    }
  },
  "nbformat": 4,
  "nbformat_minor": 0
}
