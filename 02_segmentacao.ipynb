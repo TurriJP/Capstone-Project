{
 "cells": [
  {
   "cell_type": "code",
   "execution_count": 1,
   "metadata": {},
   "outputs": [],
   "source": [
    "import numpy as np\n",
    "import matplotlib.pyplot as plt\n",
    "from skimage.io import imread\n",
    "import rasterio as rio\n",
    "from rasterio.plot import reshape_as_image\n",
    "import maskSLIC.maskslic as seg\n",
    "import skimage.segmentation as skseg\n",
    "from glob import glob "
   ]
  },
  {
   "cell_type": "code",
   "execution_count": 2,
   "metadata": {},
   "outputs": [],
   "source": [
    "# Diretórios de output\n",
    "slic_dir = '/home/jp/Documents/IME/TCC/CODE/Capstone-Project/data/slic/'\n",
    "output_dir = '/home/jp/Documents/IME/TCC/CODE/Capstone-Project/data/segmentation_image/'\n",
    "\n",
    "# Diretórios de input\n",
    "c2_dir = '/home/jp/Documents/IME/TCC/CODE/Capstone-Project/data/c2/'\n",
    "c2_files = sorted(glob(c2_dir+'*'))\n",
    "despeckle_dir = '/home/jp/Documents/IME/TCC/CODE/Capstone-Project/data/despeckle/'\n",
    "despeckle_files = sorted(glob(despeckle_dir+'*'))\n",
    "colorized_dir = '/home/jp/Documents/IME/TCC/CODE/Capstone-Project/data/colorized/'\n",
    "colorized_files = sorted(glob(colorized_dir+'*'))\n",
    "truth_dir = '/home/jp/Documents/IME/TCC/CODE/Capstone-Project/data/truth/'\n",
    "truth_files = sorted(glob(truth_dir+'ground/*'))"
   ]
  },
  {
   "cell_type": "code",
   "execution_count": 3,
   "metadata": {},
   "outputs": [],
   "source": [
    "# Funções para realizar a segmentação\n",
    "\n",
    "def rescale_img(src, w, h):\n",
    "    data = src.read(\n",
    "        out_shape=(\n",
    "            src.count,\n",
    "            w,\n",
    "            h\n",
    "        ),\n",
    "        )\n",
    "\n",
    "# scale image transform\n",
    "    transform = src.transform * src.transform.scale(\n",
    "        (src.width / data.shape[-1]),\n",
    "        (src.height / data.shape[-2])\n",
    "    )\n",
    "\n",
    "    return data\n",
    "\n",
    "def test(image, n_segments, enforce_connectivity, distance, spatial_weight, filename='file', max_iter=10, compactness=0.1, color_image=None, w=None, h=None, mask=None):\n",
    "    # Remover valores iguais a 0 para evitar problemas\n",
    "    # nas distâncias que usam log\n",
    "    zero_mask = (image == 0)\n",
    "    random_numbers = np.random.rand(*image.shape)\n",
    "    image[zero_mask] = random_numbers[zero_mask]\n",
    "\n",
    "    segments = seg.slic(image, n_segments=n_segments, max_iter=max_iter, compactness=compactness, \n",
    "                       enforce_connectivity=enforce_connectivity, distance=distance, spatial_weight=spatial_weight, mask=mask)\n",
    "    if color_image is None:\n",
    "        display_image = image[:, :, 2]/np.max(image[:, :, 2])\n",
    "    else:\n",
    "        display_image = color_image\n",
    "    image_with_bounds = skseg.mark_boundaries(image=display_image, label_img=segments)\n",
    "    plt.imsave(output_dir + filename + '.png', image_with_bounds)\n",
    "    np.save(slic_dir + filename + '.npy', segments)\n",
    "    return segments\n",
    "\n",
    "def save_truth_mask(full_mask, satellite, i):\n",
    "    new_array = np.full((full_mask.shape[0], full_mask.shape[1]), 3)\n",
    "\n",
    "    # Conditions for assigning values based on channels\n",
    "    # If channel 1 value is 255, assign 1; if channel 2 value is 1, assign 2; else, keep as 3\n",
    "    new_array[full_mask[:, :, 0] == 255] = 1\n",
    "    new_array[full_mask[:, :, 1] == 255] = 2\n",
    "    np.save(truth_dir + f'ae{i}_{satellite}.npy', new_array)\n",
    "\n",
    "def get_maskslic_mask(full_mask):\n",
    "    new_array = np.full((full_mask.shape[0], full_mask.shape[1]), 0)\n",
    "\n",
    "    # Conditions for assigning values based on channels\n",
    "    # If channel 1 value is 255, assign 1; if channel 2 value is 1, assign 2; else, keep as 3\n",
    "    new_array[full_mask[:, :, 0] == 255] = 1\n",
    "    new_array[full_mask[:, :, 1] == 255] = 1\n",
    "    return new_array\n",
    "    \n",
    "def calculate_truths(i, w, h):\n",
    "    with rio.open(truth_files[i]) as src:\n",
    "        ground = src.read()\n",
    "        ground = reshape_as_image(ground)\n",
    "        scaled_ground = rescale_img(src, w, h)\n",
    "        scaled_ground = reshape_as_image(scaled_ground)\n",
    "    save_truth_mask(ground, 's2', i)\n",
    "    save_truth_mask(scaled_ground, 's1', i)\n",
    "\n",
    "    return ground[:,:,3], scaled_ground[:,:,3]"
   ]
  },
  {
   "cell_type": "code",
   "execution_count": 4,
   "metadata": {},
   "outputs": [
    {
     "name": "stdout",
     "output_type": "stream",
     "text": [
      "5\n"
     ]
    },
    {
     "ename": "TypeError",
     "evalue": "_slic_cython() got multiple values for keyword argument 'only_dist'",
     "output_type": "error",
     "traceback": [
      "\u001b[0;31m---------------------------------------------------------------------------\u001b[0m",
      "\u001b[0;31mTypeError\u001b[0m                                 Traceback (most recent call last)",
      "Cell \u001b[0;32mIn[4], line 15\u001b[0m\n\u001b[1;32m     13\u001b[0m \u001b[39mfor\u001b[39;00m dist \u001b[39min\u001b[39;00m distances\u001b[39m.\u001b[39mkeys():\n\u001b[1;32m     14\u001b[0m     filename \u001b[39m=\u001b[39m slic_dir \u001b[39m+\u001b[39m \u001b[39mf\u001b[39m\u001b[39m'\u001b[39m\u001b[39mae\u001b[39m\u001b[39m{\u001b[39;00mi\u001b[39m+\u001b[39m\u001b[39m2\u001b[39m\u001b[39m}\u001b[39;00m\u001b[39m/area\u001b[39m\u001b[39m{\u001b[39;00mi\u001b[39m+\u001b[39m\u001b[39m2\u001b[39m\u001b[39m}\u001b[39;00m\u001b[39m_\u001b[39m\u001b[39m{\u001b[39;00mdistances\u001b[39m.\u001b[39mget(i)\u001b[39m}\u001b[39;00m\u001b[39m'\u001b[39m\n\u001b[0;32m---> 15\u001b[0m     test(image\u001b[39m=\u001b[39;49mc2, n_segments\u001b[39m=\u001b[39;49m\u001b[39m10000\u001b[39;49m, enforce_connectivity\u001b[39m=\u001b[39;49m\u001b[39mFalse\u001b[39;49;00m, distance\u001b[39m=\u001b[39;49mdist, spatial_weight\u001b[39m=\u001b[39;49m\u001b[39m5\u001b[39;49m, filename\u001b[39m=\u001b[39;49mfilename, max_iter\u001b[39m=\u001b[39;49m\u001b[39m10\u001b[39;49m, compactness\u001b[39m=\u001b[39;49m\u001b[39m0.1\u001b[39;49m, color_image\u001b[39m=\u001b[39;49mclasses)\n\u001b[1;32m     16\u001b[0m     test(image\u001b[39m=\u001b[39mc2, n_segments\u001b[39m=\u001b[39m\u001b[39m10000\u001b[39m, enforce_connectivity\u001b[39m=\u001b[39m\u001b[39mFalse\u001b[39;00m, distance\u001b[39m=\u001b[39mdist, spatial_weight\u001b[39m=\u001b[39m\u001b[39m5\u001b[39m, filename\u001b[39m=\u001b[39mfilename\u001b[39m+\u001b[39m\u001b[39m'\u001b[39m\u001b[39m_mask\u001b[39m\u001b[39m'\u001b[39m, max_iter\u001b[39m=\u001b[39m\u001b[39m10\u001b[39m, compactness\u001b[39m=\u001b[39m\u001b[39m0.1\u001b[39m, color_image\u001b[39m=\u001b[39mclasses, mask\u001b[39m=\u001b[39mget_maskslic_mask(classes))\n",
      "Cell \u001b[0;32mIn[3], line 27\u001b[0m, in \u001b[0;36mtest\u001b[0;34m(image, n_segments, enforce_connectivity, distance, spatial_weight, filename, max_iter, compactness, color_image, w, h, mask)\u001b[0m\n\u001b[1;32m     24\u001b[0m random_numbers \u001b[39m=\u001b[39m np\u001b[39m.\u001b[39mrandom\u001b[39m.\u001b[39mrand(\u001b[39m*\u001b[39mimage\u001b[39m.\u001b[39mshape)\n\u001b[1;32m     25\u001b[0m image[zero_mask] \u001b[39m=\u001b[39m random_numbers[zero_mask]\n\u001b[0;32m---> 27\u001b[0m segments \u001b[39m=\u001b[39m seg\u001b[39m.\u001b[39;49mslic(image, n_segments\u001b[39m=\u001b[39;49mn_segments, max_iter\u001b[39m=\u001b[39;49mmax_iter, compactness\u001b[39m=\u001b[39;49mcompactness, \n\u001b[1;32m     28\u001b[0m                    enforce_connectivity\u001b[39m=\u001b[39;49menforce_connectivity, distance\u001b[39m=\u001b[39;49mdistance, spatial_weight\u001b[39m=\u001b[39;49mspatial_weight, mask\u001b[39m=\u001b[39;49mmask)\n\u001b[1;32m     29\u001b[0m \u001b[39mif\u001b[39;00m color_image \u001b[39mis\u001b[39;00m \u001b[39mNone\u001b[39;00m:\n\u001b[1;32m     30\u001b[0m     display_image \u001b[39m=\u001b[39m image[:, :, \u001b[39m2\u001b[39m]\u001b[39m/\u001b[39mnp\u001b[39m.\u001b[39mmax(image[:, :, \u001b[39m2\u001b[39m])\n",
      "File \u001b[0;32m~/Documents/IME/TCC/CODE/Capstone-Project/maskSLIC/maskslic/slic_superpixels.py:381\u001b[0m, in \u001b[0;36mslic\u001b[0;34m(image, distance, spatial_weight, n_segments, compactness, max_iter, sigma, spacing, multichannel, convert2lab, enforce_connectivity, min_size_factor, max_size_factor, slic_zero, seed_type, mask, recompute_seeds, plot_examples)\u001b[0m\n\u001b[1;32m    377\u001b[0m \u001b[39m# image = np.ascontiguousarray(image * ratio)\u001b[39;00m\n\u001b[1;32m    379\u001b[0m \u001b[39mprint\u001b[39m(spatial_weight)\n\u001b[0;32m--> 381\u001b[0m labels \u001b[39m=\u001b[39m _slic_cython(image, mask, segments, step, max_iter, spacing, slic_zero, distance, spatial_weight, only_dist\u001b[39m=\u001b[39;49m\u001b[39mFalse\u001b[39;49;00m)\n\u001b[1;32m    383\u001b[0m \u001b[39mif\u001b[39;00m enforce_connectivity:\n\u001b[1;32m    384\u001b[0m     \u001b[39mif\u001b[39;00m msk \u001b[39mis\u001b[39;00m \u001b[39mNone\u001b[39;00m:\n",
      "File \u001b[0;32m~/.local/lib/python3.10/site-packages/maskslic/_slic.pyx:23\u001b[0m, in \u001b[0;36mmaskslic._slic._slic_cython\u001b[0;34m()\u001b[0m\n",
      "\u001b[0;31mTypeError\u001b[0m: _slic_cython() got multiple values for keyword argument 'only_dist'"
     ]
    }
   ],
   "source": [
    "# Segmentação pelas distâncias estatísticas\n",
    "distances = {\n",
    "    0: 'wishart',\n",
    "    1: 'rw',\n",
    "    2: 'snll',\n",
    "    3: 'hlt'\n",
    "}\n",
    "for i in range(len(c2_dir)):\n",
    "    with rio.open(c2_files[i]) as src:\n",
    "        c2 = src.read()\n",
    "        c2 = reshape_as_image(c2)\n",
    "    _, classes = calculate_truths(i, c2.shape[0], c2.shape[1])\n",
    "    for dist in distances.keys():\n",
    "        filename = slic_dir + f'ae{i+2}/area{i+2}_{distances.get(i)}'\n",
    "        test(image=c2, n_segments=10000, enforce_connectivity=False, distance=dist, spatial_weight=5, filename=filename, max_iter=10, compactness=0.1, color_image=classes)\n",
    "        test(image=c2, n_segments=10000, enforce_connectivity=False, distance=dist, spatial_weight=5, filename=filename+'_mask', max_iter=10, compactness=0.1, color_image=classes, mask=get_maskslic_mask(classes))\n"
   ]
  },
  {
   "cell_type": "code",
   "execution_count": 5,
   "metadata": {},
   "outputs": [
    {
     "name": "stdout",
     "output_type": "stream",
     "text": [
      "antes do slic\n",
      "<class 'int'>\n",
      "5\n"
     ]
    },
    {
     "ename": "TypeError",
     "evalue": "_slic_cython() got multiple values for keyword argument 'only_dist'",
     "output_type": "error",
     "traceback": [
      "\u001b[0;31m---------------------------------------------------------------------------\u001b[0m",
      "\u001b[0;31mTypeError\u001b[0m                                 Traceback (most recent call last)",
      "Cell \u001b[0;32mIn[5], line 48\u001b[0m\n\u001b[1;32m     46\u001b[0m file \u001b[39m=\u001b[39m \u001b[39m'\u001b[39m\u001b[39m/media/jp/FreeAgent GoFlex Drive/SAR/AREA_3_mat.tif\u001b[39m\u001b[39m'\u001b[39m\n\u001b[1;32m     47\u001b[0m filename \u001b[39m=\u001b[39m \u001b[39m'\u001b[39m\u001b[39mAREA3_b_20000_snll_sanity_check\u001b[39m\u001b[39m'\u001b[39m\n\u001b[0;32m---> 48\u001b[0m slic \u001b[39m=\u001b[39m test(file, \u001b[39m20000\u001b[39;49m, \u001b[39mTrue\u001b[39;49;00m, \u001b[39m2\u001b[39;49m, \u001b[39m5\u001b[39;49m, filename) \n",
      "Cell \u001b[0;32mIn[5], line 32\u001b[0m, in \u001b[0;36mtest\u001b[0;34m(filepath, n_segments, enforce_connectivity, distance, spatial_weight, filename, max_iter, compactness, color_image, w, h, mask)\u001b[0m\n\u001b[1;32m     30\u001b[0m \u001b[39mprint\u001b[39m(\u001b[39m'\u001b[39m\u001b[39mantes do slic\u001b[39m\u001b[39m'\u001b[39m)\n\u001b[1;32m     31\u001b[0m \u001b[39mprint\u001b[39m(\u001b[39mtype\u001b[39m(max_iter))\n\u001b[0;32m---> 32\u001b[0m vv_slic \u001b[39m=\u001b[39m seg\u001b[39m.\u001b[39;49mslic(image, n_segments\u001b[39m=\u001b[39;49mn_segments, max_iter\u001b[39m=\u001b[39;49mmax_iter, compactness\u001b[39m=\u001b[39;49mcompactness, enforce_connectivity\u001b[39m=\u001b[39;49m\u001b[39mTrue\u001b[39;49;00m, distance\u001b[39m=\u001b[39;49mdistance, spatial_weight\u001b[39m=\u001b[39;49mspatial_weight, mask\u001b[39m=\u001b[39;49mmask)\n\u001b[1;32m     33\u001b[0m \u001b[39mprint\u001b[39m(\u001b[39m'\u001b[39m\u001b[39mantes do mark\u001b[39m\u001b[39m'\u001b[39m)\n\u001b[1;32m     34\u001b[0m plt\u001b[39m.\u001b[39mimsave(filename\u001b[39m+\u001b[39m\u001b[39m'\u001b[39m\u001b[39m.png\u001b[39m\u001b[39m'\u001b[39m, vv_slic)\n",
      "File \u001b[0;32m~/Documents/IME/TCC/CODE/Capstone-Project/maskSLIC/maskslic/slic_superpixels.py:381\u001b[0m, in \u001b[0;36mslic\u001b[0;34m(image, distance, spatial_weight, n_segments, compactness, max_iter, sigma, spacing, multichannel, convert2lab, enforce_connectivity, min_size_factor, max_size_factor, slic_zero, seed_type, mask, recompute_seeds, plot_examples)\u001b[0m\n\u001b[1;32m    377\u001b[0m \u001b[39m# image = np.ascontiguousarray(image * ratio)\u001b[39;00m\n\u001b[1;32m    379\u001b[0m \u001b[39mprint\u001b[39m(spatial_weight)\n\u001b[0;32m--> 381\u001b[0m labels \u001b[39m=\u001b[39m _slic_cython(image, mask, segments, step, max_iter, spacing, slic_zero, distance, spatial_weight, only_dist\u001b[39m=\u001b[39;49m\u001b[39mFalse\u001b[39;49;00m)\n\u001b[1;32m    383\u001b[0m \u001b[39mif\u001b[39;00m enforce_connectivity:\n\u001b[1;32m    384\u001b[0m     \u001b[39mif\u001b[39;00m msk \u001b[39mis\u001b[39;00m \u001b[39mNone\u001b[39;00m:\n",
      "File \u001b[0;32m~/.local/lib/python3.10/site-packages/maskslic/_slic.pyx:23\u001b[0m, in \u001b[0;36mmaskslic._slic._slic_cython\u001b[0;34m()\u001b[0m\n",
      "\u001b[0;31mTypeError\u001b[0m: _slic_cython() got multiple values for keyword argument 'only_dist'"
     ]
    }
   ],
   "source": [
    "def rescale_img(src, w, h):\n",
    "    data = src.read(\n",
    "        out_shape=(\n",
    "            src.count,\n",
    "            w,\n",
    "            h\n",
    "        ),\n",
    "        )\n",
    "\n",
    "# scale image transform\n",
    "    transform = src.transform * src.transform.scale(\n",
    "        (src.width / data.shape[-1]),\n",
    "        (src.height / data.shape[-2])\n",
    "    )\n",
    "\n",
    "    return data\n",
    "\n",
    "def test(filepath, n_segments, enforce_connectivity, distance, spatial_weight, filename='file', max_iter=10, compactness=0.1, color_image=None, w=None, h=None, mask=None):\n",
    "    with rio.open(filepath) as src:\n",
    "        if w and h:\n",
    "            image = rescale_img(src, w, h)\n",
    "        else:\n",
    "            image = src.read()\n",
    "        image = reshape_as_image(image)\n",
    "\n",
    "        # Remover valores iguais a 0 para evitar problemas\n",
    "        zero_mask = (image == 0)\n",
    "        random_numbers = np.random.rand(*image.shape)\n",
    "        image[zero_mask] = random_numbers[zero_mask]\n",
    "        print('antes do slic')\n",
    "        print(type(max_iter))\n",
    "        vv_slic = seg.slic(image, n_segments=n_segments, max_iter=max_iter, compactness=compactness, enforce_connectivity=True, distance=distance, spatial_weight=spatial_weight, mask=mask)\n",
    "        print('antes do mark')\n",
    "        plt.imsave(filename+'.png', vv_slic)\n",
    "        if color_image is None:\n",
    "            display_image = image[:, :, 2]\n",
    "        else:\n",
    "            display_image = color_image\n",
    "        image_with_bounds = skseg.mark_boundaries(image=display_image, label_img=vv_slic)\n",
    "        print('depois do mark')\n",
    "        plt.imshow(image_with_bounds)\n",
    "        plt.imsave(filename+'.png', image_with_bounds)\n",
    "        np.save(slic_dir+filename+'.npy', vv_slic)\n",
    "        return vv_slic\n",
    "    \n",
    "file = '/media/jp/FreeAgent GoFlex Drive/SAR/AREA_3_mat.tif'\n",
    "filename = 'AREA3_b_20000_snll_sanity_check'\n",
    "slic = test(file, 20000, True, 2, 5, filename) "
   ]
  }
 ],
 "metadata": {
  "kernelspec": {
   "display_name": "Python 3",
   "language": "python",
   "name": "python3"
  },
  "language_info": {
   "codemirror_mode": {
    "name": "ipython",
    "version": 3
   },
   "file_extension": ".py",
   "mimetype": "text/x-python",
   "name": "python",
   "nbconvert_exporter": "python",
   "pygments_lexer": "ipython3",
   "version": "3.10.12"
  },
  "orig_nbformat": 4
 },
 "nbformat": 4,
 "nbformat_minor": 2
}
